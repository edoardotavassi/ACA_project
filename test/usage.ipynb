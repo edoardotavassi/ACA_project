{
 "cells": [
  {
   "cell_type": "code",
   "execution_count": 4,
   "metadata": {},
   "outputs": [
    {
     "ename": "ModuleNotFoundError",
     "evalue": "No module named 'distutils'",
     "output_type": "error",
     "traceback": [
      "\u001b[0;31m---------------------------------------------------------------------------\u001b[0m",
      "\u001b[0;31mModuleNotFoundError\u001b[0m                       Traceback (most recent call last)",
      "Cell \u001b[0;32mIn[4], line 2\u001b[0m\n\u001b[1;32m      1\u001b[0m \u001b[38;5;28;01mimport\u001b[39;00m \u001b[38;5;21;01mpsutil\u001b[39;00m\n\u001b[0;32m----> 2\u001b[0m \u001b[38;5;28;01mimport\u001b[39;00m \u001b[38;5;21;01mGPUtil\u001b[39;00m\n\u001b[1;32m      3\u001b[0m \u001b[38;5;28;01mimport\u001b[39;00m \u001b[38;5;21;01mtime\u001b[39;00m\n\u001b[1;32m      4\u001b[0m \u001b[38;5;28;01mimport\u001b[39;00m \u001b[38;5;21;01mthreading\u001b[39;00m\n",
      "File \u001b[0;32m~/Documents/MASTER_CS/ACA/ACA_project/.venv/lib/python3.12/site-packages/GPUtil/__init__.py:33\u001b[0m\n\u001b[1;32m      1\u001b[0m \u001b[38;5;66;03m# GPUtil - GPU utilization\u001b[39;00m\n\u001b[1;32m      2\u001b[0m \u001b[38;5;66;03m#\u001b[39;00m\n\u001b[1;32m      3\u001b[0m \u001b[38;5;66;03m# A Python module for programmically getting the GPU utilization from NVIDA GPUs using nvidia-smi\u001b[39;00m\n\u001b[0;32m   (...)\u001b[0m\n\u001b[1;32m     30\u001b[0m \u001b[38;5;66;03m# OUT OF OR IN CONNECTION WITH THE SOFTWARE OR THE USE OR OTHER DEALINGS IN THE\u001b[39;00m\n\u001b[1;32m     31\u001b[0m \u001b[38;5;66;03m# SOFTWARE.\u001b[39;00m\n\u001b[0;32m---> 33\u001b[0m \u001b[38;5;28;01mfrom\u001b[39;00m \u001b[38;5;21;01m.\u001b[39;00m\u001b[38;5;21;01mGPUtil\u001b[39;00m \u001b[38;5;28;01mimport\u001b[39;00m GPU, getGPUs, getAvailable, getAvailability, getFirstAvailable, showUtilization, __version__\n",
      "File \u001b[0;32m~/Documents/MASTER_CS/ACA/ACA_project/.venv/lib/python3.12/site-packages/GPUtil/GPUtil.py:34\u001b[0m\n\u001b[1;32m      1\u001b[0m \u001b[38;5;66;03m# GPUtil - GPU utilization\u001b[39;00m\n\u001b[1;32m      2\u001b[0m \u001b[38;5;66;03m#\u001b[39;00m\n\u001b[1;32m      3\u001b[0m \u001b[38;5;66;03m# A Python module for programmically getting the GPU utilization from NVIDA GPUs using nvidia-smi\u001b[39;00m\n\u001b[0;32m   (...)\u001b[0m\n\u001b[1;32m     30\u001b[0m \u001b[38;5;66;03m# OUT OF OR IN CONNECTION WITH THE SOFTWARE OR THE USE OR OTHER DEALINGS IN THE\u001b[39;00m\n\u001b[1;32m     31\u001b[0m \u001b[38;5;66;03m# SOFTWARE.\u001b[39;00m\n\u001b[1;32m     33\u001b[0m \u001b[38;5;28;01mfrom\u001b[39;00m \u001b[38;5;21;01msubprocess\u001b[39;00m \u001b[38;5;28;01mimport\u001b[39;00m Popen, PIPE\n\u001b[0;32m---> 34\u001b[0m \u001b[38;5;28;01mfrom\u001b[39;00m \u001b[38;5;21;01mdistutils\u001b[39;00m \u001b[38;5;28;01mimport\u001b[39;00m spawn\n\u001b[1;32m     35\u001b[0m \u001b[38;5;28;01mimport\u001b[39;00m \u001b[38;5;21;01mos\u001b[39;00m\n\u001b[1;32m     36\u001b[0m \u001b[38;5;28;01mimport\u001b[39;00m \u001b[38;5;21;01mmath\u001b[39;00m\n",
      "\u001b[0;31mModuleNotFoundError\u001b[0m: No module named 'distutils'"
     ]
    }
   ],
   "source": [
    "import psutil\n",
    "import GPUtil\n",
    "import time\n",
    "import threading"
   ]
  },
  {
   "cell_type": "code",
   "execution_count": null,
   "metadata": {},
   "outputs": [],
   "source": [
    "def monitor_power_usage(duration, event, result):\n",
    "    cpu_usage = []\n",
    "    memory_usage = []\n",
    "    gpu_usage = []\n",
    "    gpu_memory_usage = []\n",
    "\n",
    "    start_time = time.time()\n",
    "    while not event.is_set():\n",
    "        cpu_usage.append(psutil.cpu_percent(interval=0.1))\n",
    "        memory_usage.append(psutil.virtual_memory().percent)\n",
    "        \n",
    "        gpus = GPUtil.getGPUs()\n",
    "        if gpus:\n",
    "            gpu = gpus[0]\n",
    "            gpu_usage.append(gpu.load * 100)\n",
    "            gpu_memory_usage.append(gpu.memoryUtil * 100)\n",
    "        \n",
    "        time.sleep(0.1)\n",
    "    \n",
    "    result['cpu_usage'] = cpu_usage\n",
    "    result['memory_usage'] = memory_usage\n",
    "    result['gpu_usage'] = gpu_usage\n",
    "    result['gpu_memory_usage'] = gpu_memory_usage"
   ]
  },
  {
   "cell_type": "code",
   "execution_count": null,
   "metadata": {},
   "outputs": [],
   "source": [
    "from TTS.api import TTS\n",
    "\n",
    "def execute_tts_with_monitoring():\n",
    "    # Initialize result dictionary and event\n",
    "    result = {}\n",
    "    event = threading.Event()\n",
    "\n",
    "    # Start monitoring thread\n",
    "    monitoring_thread = threading.Thread(target=monitor_power_usage, args=(10, event, result))\n",
    "    monitoring_thread.start()\n",
    "\n",
    "    # Execute TTS function\n",
    "    tts = TTS(\"tts_models/multilingual/multi-dataset/xtts_v2\", gpu=True)\n",
    "    tts.to(0)\n",
    "    tts.tts(text='Ciao amico mio come stai, io sinceramente non sono più sicuro di essere vivo.', \n",
    "            speaker_wav='../backend/input/it.wav', language='it')\n",
    "\n",
    "    # Stop monitoring thread\n",
    "    event.set()\n",
    "    monitoring_thread.join()\n",
    "\n",
    "    return result"
   ]
  },
  {
   "cell_type": "code",
   "execution_count": 16,
   "metadata": {},
   "outputs": [
    {
     "data": {
      "image/png": "[encoded data removed]",
      "text/plain": [
       "<Figure size 640x480 with 1 Axes>"
      ]
     },
     "metadata": {},
     "output_type": "display_data"
    }
   ],
   "source": [
    "performance_metrics = execute_tts_with_monitoring()\n",
    "    \n",
    "print(\"CPU Usage:\", performance_metrics['cpu_usage'])\n",
    "print(\"Memory Usage:\", performance_metrics['memory_usage'])\n",
    "print(\"GPU Usage:\", performance_metrics['gpu_usage'])\n",
    "print(\"GPU Memory Usage:\", performance_metrics['gpu_memory_usage'])\n",
    "\n",
    "# Plot results\n",
    "import matplotlib.pyplot as plt\n",
    "\n",
    "plt.figure(figsize=(12, 8))\n",
    "    \n",
    "plt.subplot(2, 2, 1)\n",
    "plt.plot(performance_metrics['cpu_usage'])\n",
    "plt.xlabel('Time (s)')\n",
    "plt.ylabel('CPU Usage (%)')\n",
    "plt.title('CPU Usage Over Time')\n",
    "\n",
    "plt.subplot(2, 2, 2)\n",
    "plt.plot(performance_metrics['memory_usage'])\n",
    "plt.xlabel('Time (s)')\n",
    "plt.ylabel('Memory Usage (%)')\n",
    "plt.title('Memory Usage Over Time')\n",
    "\n",
    "if performance_metrics['gpu_usage']:\n",
    "    plt.subplot(2, 2, 3)\n",
    "    plt.plot(performance_metrics['gpu_usage'])\n",
    "    plt.xlabel('Time (s)')\n",
    "    plt.ylabel('GPU Usage (%)')\n",
    "    plt.title('GPU Usage Over Time')\n",
    "\n",
    "    plt.subplot(2, 2, 4)\n",
    "    plt.plot(performance_metrics['gpu_memory_usage'])\n",
    "    plt.xlabel('Time (s)')\n",
    "    plt.ylabel('GPU Memory Usage (%)')\n",
    "    plt.title('GPU Memory Usage Over Time')\n",
    "\n",
    "plt.tight_layout()\n",
    "plt.show()"
   ]
  }
 ],
 "metadata": {
  "kernelspec": {
   "display_name": ".venv",
   "language": "python",
   "name": "python3"
  },
  "language_info": {
   "codemirror_mode": {
    "name": "ipython",
    "version": 3
   },
   "file_extension": ".py",
   "mimetype": "text/x-python",
   "name": "python",
   "nbconvert_exporter": "python",
   "pygments_lexer": "ipython3",
   "version": "3.11.6"
  }
 },
 "nbformat": 4,
 "nbformat_minor": 2
}
