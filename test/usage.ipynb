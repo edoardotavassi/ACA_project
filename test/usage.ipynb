{
 "cells": [
  {
   "cell_type": "code",
   "execution_count": 1,
   "metadata": {},
   "outputs": [
    {
     "ename": "ModuleNotFoundError",
     "evalue": "No module named 'distutils'",
     "output_type": "error",
     "traceback": [
      "\u001b[0;31m---------------------------------------------------------------------------\u001b[0m",
      "\u001b[0;31mModuleNotFoundError\u001b[0m                       Traceback (most recent call last)",
      "Cell \u001b[0;32mIn[1], line 2\u001b[0m\n\u001b[1;32m      1\u001b[0m \u001b[38;5;28;01mimport\u001b[39;00m \u001b[38;5;21;01mpsutil\u001b[39;00m\n\u001b[0;32m----> 2\u001b[0m \u001b[38;5;28;01mimport\u001b[39;00m \u001b[38;5;21;01mGPUtil\u001b[39;00m\n\u001b[1;32m      3\u001b[0m \u001b[38;5;28;01mimport\u001b[39;00m \u001b[38;5;21;01mtime\u001b[39;00m\n\u001b[1;32m      5\u001b[0m \u001b[38;5;28;01mdef\u001b[39;00m \u001b[38;5;21mget_cpu_usage\u001b[39m():\n",
      "File \u001b[0;32m~/Documents/MASTER_CS/ACA/ACA_project/.venv/lib/python3.12/site-packages/GPUtil/__init__.py:33\u001b[0m\n\u001b[1;32m      1\u001b[0m \u001b[38;5;66;03m# GPUtil - GPU utilization\u001b[39;00m\n\u001b[1;32m      2\u001b[0m \u001b[38;5;66;03m#\u001b[39;00m\n\u001b[1;32m      3\u001b[0m \u001b[38;5;66;03m# A Python module for programmically getting the GPU utilization from NVIDA GPUs using nvidia-smi\u001b[39;00m\n\u001b[0;32m   (...)\u001b[0m\n\u001b[1;32m     30\u001b[0m \u001b[38;5;66;03m# OUT OF OR IN CONNECTION WITH THE SOFTWARE OR THE USE OR OTHER DEALINGS IN THE\u001b[39;00m\n\u001b[1;32m     31\u001b[0m \u001b[38;5;66;03m# SOFTWARE.\u001b[39;00m\n\u001b[0;32m---> 33\u001b[0m \u001b[38;5;28;01mfrom\u001b[39;00m \u001b[38;5;21;01m.\u001b[39;00m\u001b[38;5;21;01mGPUtil\u001b[39;00m \u001b[38;5;28;01mimport\u001b[39;00m GPU, getGPUs, getAvailable, getAvailability, getFirstAvailable, showUtilization, __version__\n",
      "File \u001b[0;32m~/Documents/MASTER_CS/ACA/ACA_project/.venv/lib/python3.12/site-packages/GPUtil/GPUtil.py:34\u001b[0m\n\u001b[1;32m      1\u001b[0m \u001b[38;5;66;03m# GPUtil - GPU utilization\u001b[39;00m\n\u001b[1;32m      2\u001b[0m \u001b[38;5;66;03m#\u001b[39;00m\n\u001b[1;32m      3\u001b[0m \u001b[38;5;66;03m# A Python module for programmically getting the GPU utilization from NVIDA GPUs using nvidia-smi\u001b[39;00m\n\u001b[0;32m   (...)\u001b[0m\n\u001b[1;32m     30\u001b[0m \u001b[38;5;66;03m# OUT OF OR IN CONNECTION WITH THE SOFTWARE OR THE USE OR OTHER DEALINGS IN THE\u001b[39;00m\n\u001b[1;32m     31\u001b[0m \u001b[38;5;66;03m# SOFTWARE.\u001b[39;00m\n\u001b[1;32m     33\u001b[0m \u001b[38;5;28;01mfrom\u001b[39;00m \u001b[38;5;21;01msubprocess\u001b[39;00m \u001b[38;5;28;01mimport\u001b[39;00m Popen, PIPE\n\u001b[0;32m---> 34\u001b[0m \u001b[38;5;28;01mfrom\u001b[39;00m \u001b[38;5;21;01mdistutils\u001b[39;00m \u001b[38;5;28;01mimport\u001b[39;00m spawn\n\u001b[1;32m     35\u001b[0m \u001b[38;5;28;01mimport\u001b[39;00m \u001b[38;5;21;01mos\u001b[39;00m\n\u001b[1;32m     36\u001b[0m \u001b[38;5;28;01mimport\u001b[39;00m \u001b[38;5;21;01mmath\u001b[39;00m\n",
      "\u001b[0;31mModuleNotFoundError\u001b[0m: No module named 'distutils'"
     ]
    }
   ],
   "source": [
    "import psutil\n",
    "import GPUtil\n",
    "import time\n",
    "\n",
    "def get_cpu_usage():\n",
    "    return psutil.cpu_percent(interval=1)\n",
    "\n",
    "def get_memory_usage():\n",
    "    return psutil.virtual_memory().percent\n",
    "\n",
    "def get_gpu_usage():\n",
    "    gpus = GPUtil.getGPUs()\n",
    "    if gpus:\n",
    "        gpu = gpus[0]\n",
    "        return gpu.load * 100, gpu.memoryUtil * 100\n",
    "    return None, None\n",
    "\n",
    "def monitor_power_usage(duration=10):\n",
    "    cpu_usage = []\n",
    "    memory_usage = []\n",
    "    gpu_usage = []\n",
    "    gpu_memory_usage = []\n",
    "\n",
    "    start_time = time.time()\n",
    "    while time.time() - start_time < duration:\n",
    "        cpu_usage.append(get_cpu_usage())\n",
    "        memory_usage.append(get_memory_usage())\n",
    "        \n",
    "        gpu, gpu_memory = get_gpu_usage()\n",
    "        if gpu is not None:\n",
    "            gpu_usage.append(gpu)\n",
    "            gpu_memory_usage.append(gpu_memory)\n",
    "        \n",
    "        time.sleep(1)\n",
    "    \n",
    "    return cpu_usage, memory_usage, gpu_usage, gpu_memory_usage"
   ]
  },
  {
   "cell_type": "code",
   "execution_count": 3,
   "metadata": {},
   "outputs": [
    {
     "ename": "ImportError",
     "evalue": "attempted relative import with no known parent package",
     "output_type": "error",
     "traceback": [
      "\u001b[0;31m---------------------------------------------------------------------------\u001b[0m",
      "\u001b[0;31mImportError\u001b[0m                               Traceback (most recent call last)",
      "Cell \u001b[0;32mIn[3], line 1\u001b[0m\n\u001b[0;32m----> 1\u001b[0m \u001b[38;5;28;01mfrom\u001b[39;00m \u001b[38;5;21;01m.\u001b[39;00m\u001b[38;5;21;01m.\u001b[39;00m\u001b[38;5;21;01mbackend\u001b[39;00m\u001b[38;5;21;01m.\u001b[39;00m\u001b[38;5;21;01mTTS\u001b[39;00m\u001b[38;5;21;01m.\u001b[39;00m\u001b[38;5;21;01mapi\u001b[39;00m \u001b[38;5;28;01mimport\u001b[39;00m TTS\n\u001b[1;32m      2\u001b[0m tts \u001b[38;5;241m=\u001b[39m TTS(\u001b[38;5;124m\"\u001b[39m\u001b[38;5;124mtts_models/multilingual/multi-dataset/xtts_v2\u001b[39m\u001b[38;5;124m\"\u001b[39m, gpu\u001b[38;5;241m=\u001b[39m\u001b[38;5;28;01mTrue\u001b[39;00m)\n\u001b[1;32m      5\u001b[0m cpu_usage, memory_usage, gpu_usage, gpu_memory_usage \u001b[38;5;241m=\u001b[39m monitor_power_usage(\u001b[38;5;241m10\u001b[39m)\n",
      "\u001b[0;31mImportError\u001b[0m: attempted relative import with no known parent package"
     ]
    }
   ],
   "source": [
    "from ..backend.TTS.api import TTS\n",
    "tts = TTS(\"tts_models/multilingual/multi-dataset/xtts_v2\", gpu=True)\n",
    "\n",
    "\n",
    "cpu_usage, memory_usage, gpu_usage, gpu_memory_usage = monitor_power_usage(10)\n",
    "tts.tts(text='Ciao amico mio come stai, io sinceramente non sono più sicuro di essere vivo.', speaker_wav='../backend/input/it.wav', language='it')\n",
    "\n"
   ]
  },
  {
   "cell_type": "code",
   "execution_count": null,
   "metadata": {},
   "outputs": [],
   "source": [
    "import matplotlib.pyplot as plt\n",
    "#plot all metrics\n",
    "plt.plot(cpu_usage, label='CPU')\n",
    "plt.plot(memory_usage, label='Memory')\n",
    "plt.plot(gpu_usage, label='GPU')\n",
    "plt.plot(gpu_memory_usage, label='GPU Memory')\n",
    "\n",
    "plt.legend()\n",
    "plt.show()"
   ]
  }
 ],
 "metadata": {
  "kernelspec": {
   "display_name": ".venv",
   "language": "python",
   "name": "python3"
  },
  "language_info": {
   "codemirror_mode": {
    "name": "ipython",
    "version": 3
   },
   "file_extension": ".py",
   "mimetype": "text/x-python",
   "name": "python",
   "nbconvert_exporter": "python",
   "pygments_lexer": "ipython3",
   "version": "3.12.2"
  }
 },
 "nbformat": 4,
 "nbformat_minor": 2
}
